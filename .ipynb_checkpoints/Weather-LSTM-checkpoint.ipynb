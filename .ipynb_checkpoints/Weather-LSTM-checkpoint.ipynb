{
 "cells": [
  {
   "cell_type": "code",
   "execution_count": 1,
   "id": "26601b0c",
   "metadata": {
    "scrolled": true
   },
   "outputs": [
    {
     "name": "stderr",
     "output_type": "stream",
     "text": [
      "2023-04-11 01:24:24.464163: I tensorflow/tsl/cuda/cudart_stub.cc:28] Could not find cuda drivers on your machine, GPU will not be used.\n",
      "2023-04-11 01:24:24.516977: I tensorflow/tsl/cuda/cudart_stub.cc:28] Could not find cuda drivers on your machine, GPU will not be used.\n",
      "2023-04-11 01:24:24.517683: I tensorflow/core/platform/cpu_feature_guard.cc:182] This TensorFlow binary is optimized to use available CPU instructions in performance-critical operations.\n",
      "To enable the following instructions: AVX2 FMA, in other operations, rebuild TensorFlow with the appropriate compiler flags.\n",
      "2023-04-11 01:24:25.403885: W tensorflow/compiler/tf2tensorrt/utils/py_utils.cc:38] TF-TRT Warning: Could not find TensorRT\n"
     ]
    }
   ],
   "source": [
    "from math import sqrt\n",
    "from numpy import concatenate\n",
    "from matplotlib import pyplot\n",
    "from pandas import read_csv\n",
    "from pandas import DataFrame\n",
    "from pandas import concat\n",
    "from sklearn.preprocessing import MinMaxScaler\n",
    "from sklearn.preprocessing import LabelEncoder\n",
    "from sklearn.metrics import mean_squared_error\n",
    "from keras.models import Sequential\n",
    "from keras.layers import Dense\n",
    "from keras.layers import LSTM\n",
    "import pandas as pd\n",
    "import numpy as np"
   ]
  },
  {
   "cell_type": "code",
   "execution_count": 2,
   "id": "f6c7c2a5",
   "metadata": {},
   "outputs": [
    {
     "data": {
      "text/plain": [
       "Index(['Vancouver', 'Portland', 'San Francisco', 'Seattle', 'Los Angeles',\n",
       "       'San Diego', 'Las Vegas', 'Phoenix', 'Albuquerque', 'Denver',\n",
       "       'San Antonio', 'Dallas', 'Houston', 'Kansas City', 'Minneapolis',\n",
       "       'Saint Louis', 'Chicago', 'Nashville', 'Indianapolis', 'Atlanta',\n",
       "       'Detroit', 'Jacksonville', 'Charlotte', 'Miami', 'Pittsburgh',\n",
       "       'Toronto', 'Philadelphia', 'New York', 'Montreal', 'Boston',\n",
       "       'Beersheba', 'Tel Aviv District', 'Eilat', 'Haifa', 'Nahariyya',\n",
       "       'Jerusalem'],\n",
       "      dtype='object')"
      ]
     },
     "execution_count": 2,
     "metadata": {},
     "output_type": "execute_result"
    }
   ],
   "source": [
    "df_t = pd.read_csv('temperature.csv',index_col=0)\n",
    "df_h = pd.read_csv('humidity.csv',index_col=0)\n",
    "df_p = pd.read_csv('pressure.csv',index_col=0)\n",
    "df_w = pd.read_csv('wind_speed.csv',index_col=0)\n",
    "df_h.columns"
   ]
  },
  {
   "cell_type": "code",
   "execution_count": 3,
   "id": "c7d819b5",
   "metadata": {},
   "outputs": [],
   "source": [
    "def normalize(data):\n",
    "    data_mean = data.mean(axis=0)\n",
    "    data_std = data.std(axis=0)\n",
    "    return (data - data_mean) / data_std"
   ]
  },
  {
   "cell_type": "code",
   "execution_count": 4,
   "id": "bdc6578d",
   "metadata": {},
   "outputs": [
    {
     "data": {
      "text/html": [
       "<div>\n",
       "<style scoped>\n",
       "    .dataframe tbody tr th:only-of-type {\n",
       "        vertical-align: middle;\n",
       "    }\n",
       "\n",
       "    .dataframe tbody tr th {\n",
       "        vertical-align: top;\n",
       "    }\n",
       "\n",
       "    .dataframe thead th {\n",
       "        text-align: right;\n",
       "    }\n",
       "</style>\n",
       "<table border=\"1\" class=\"dataframe\">\n",
       "  <thead>\n",
       "    <tr style=\"text-align: right;\">\n",
       "      <th></th>\n",
       "      <th>San Diego</th>\n",
       "      <th>San Diego</th>\n",
       "      <th>San Diego</th>\n",
       "      <th>San Diego</th>\n",
       "    </tr>\n",
       "    <tr>\n",
       "      <th>datetime</th>\n",
       "      <th></th>\n",
       "      <th></th>\n",
       "      <th></th>\n",
       "      <th></th>\n",
       "    </tr>\n",
       "  </thead>\n",
       "  <tbody>\n",
       "    <tr>\n",
       "      <th>2012-10-01 13:00:00</th>\n",
       "      <td>291.530000</td>\n",
       "      <td>1013.0</td>\n",
       "      <td>82.0</td>\n",
       "      <td>0.0</td>\n",
       "    </tr>\n",
       "    <tr>\n",
       "      <th>2012-10-01 14:00:00</th>\n",
       "      <td>291.533501</td>\n",
       "      <td>1013.0</td>\n",
       "      <td>81.0</td>\n",
       "      <td>0.0</td>\n",
       "    </tr>\n",
       "    <tr>\n",
       "      <th>2012-10-01 15:00:00</th>\n",
       "      <td>291.543355</td>\n",
       "      <td>1013.0</td>\n",
       "      <td>81.0</td>\n",
       "      <td>0.0</td>\n",
       "    </tr>\n",
       "    <tr>\n",
       "      <th>2012-10-01 16:00:00</th>\n",
       "      <td>291.553209</td>\n",
       "      <td>1013.0</td>\n",
       "      <td>81.0</td>\n",
       "      <td>0.0</td>\n",
       "    </tr>\n",
       "    <tr>\n",
       "      <th>2012-10-01 17:00:00</th>\n",
       "      <td>291.563063</td>\n",
       "      <td>1013.0</td>\n",
       "      <td>80.0</td>\n",
       "      <td>0.0</td>\n",
       "    </tr>\n",
       "    <tr>\n",
       "      <th>...</th>\n",
       "      <td>...</td>\n",
       "      <td>...</td>\n",
       "      <td>...</td>\n",
       "      <td>...</td>\n",
       "    </tr>\n",
       "    <tr>\n",
       "      <th>2017-11-29 20:00:00</th>\n",
       "      <td>292.150000</td>\n",
       "      <td>1017.0</td>\n",
       "      <td>72.0</td>\n",
       "      <td>2.0</td>\n",
       "    </tr>\n",
       "    <tr>\n",
       "      <th>2017-11-29 21:00:00</th>\n",
       "      <td>292.740000</td>\n",
       "      <td>1017.0</td>\n",
       "      <td>72.0</td>\n",
       "      <td>1.0</td>\n",
       "    </tr>\n",
       "    <tr>\n",
       "      <th>2017-11-29 22:00:00</th>\n",
       "      <td>292.580000</td>\n",
       "      <td>1016.0</td>\n",
       "      <td>68.0</td>\n",
       "      <td>2.0</td>\n",
       "    </tr>\n",
       "    <tr>\n",
       "      <th>2017-11-29 23:00:00</th>\n",
       "      <td>292.610000</td>\n",
       "      <td>1016.0</td>\n",
       "      <td>63.0</td>\n",
       "      <td>2.0</td>\n",
       "    </tr>\n",
       "    <tr>\n",
       "      <th>2017-11-30 00:00:00</th>\n",
       "      <td>291.400000</td>\n",
       "      <td>1017.0</td>\n",
       "      <td>72.0</td>\n",
       "      <td>2.0</td>\n",
       "    </tr>\n",
       "  </tbody>\n",
       "</table>\n",
       "<p>44899 rows × 4 columns</p>\n",
       "</div>"
      ],
      "text/plain": [
       "                      San Diego  San Diego  San Diego  San Diego\n",
       "datetime                                                        \n",
       "2012-10-01 13:00:00  291.530000     1013.0       82.0        0.0\n",
       "2012-10-01 14:00:00  291.533501     1013.0       81.0        0.0\n",
       "2012-10-01 15:00:00  291.543355     1013.0       81.0        0.0\n",
       "2012-10-01 16:00:00  291.553209     1013.0       81.0        0.0\n",
       "2012-10-01 17:00:00  291.563063     1013.0       80.0        0.0\n",
       "...                         ...        ...        ...        ...\n",
       "2017-11-29 20:00:00  292.150000     1017.0       72.0        2.0\n",
       "2017-11-29 21:00:00  292.740000     1017.0       72.0        1.0\n",
       "2017-11-29 22:00:00  292.580000     1016.0       68.0        2.0\n",
       "2017-11-29 23:00:00  292.610000     1016.0       63.0        2.0\n",
       "2017-11-30 00:00:00  291.400000     1017.0       72.0        2.0\n",
       "\n",
       "[44899 rows x 4 columns]"
      ]
     },
     "execution_count": 4,
     "metadata": {},
     "output_type": "execute_result"
    }
   ],
   "source": [
    "temp = df_t['San Diego']\n",
    "humid = df_h['San Diego']\n",
    "press = df_p['San Diego']\n",
    "wind = df_w['San Diego']\n",
    "\n",
    "\n",
    "features = pd.concat([temp, press, humid, wind], axis=1)\n",
    "# features.index = time\n",
    "features = features.dropna()\n",
    "features\n"
   ]
  },
  {
   "cell_type": "code",
   "execution_count": 5,
   "id": "c006d70c",
   "metadata": {},
   "outputs": [
    {
     "data": {
      "text/html": [
       "<div>\n",
       "<style scoped>\n",
       "    .dataframe tbody tr th:only-of-type {\n",
       "        vertical-align: middle;\n",
       "    }\n",
       "\n",
       "    .dataframe tbody tr th {\n",
       "        vertical-align: top;\n",
       "    }\n",
       "\n",
       "    .dataframe thead th {\n",
       "        text-align: right;\n",
       "    }\n",
       "</style>\n",
       "<table border=\"1\" class=\"dataframe\">\n",
       "  <thead>\n",
       "    <tr style=\"text-align: right;\">\n",
       "      <th></th>\n",
       "      <th>0</th>\n",
       "      <th>1</th>\n",
       "      <th>2</th>\n",
       "      <th>3</th>\n",
       "    </tr>\n",
       "  </thead>\n",
       "  <tbody>\n",
       "    <tr>\n",
       "      <th>0</th>\n",
       "      <td>0.222888</td>\n",
       "      <td>-0.528665</td>\n",
       "      <td>0.731908</td>\n",
       "      <td>-1.181374</td>\n",
       "    </tr>\n",
       "    <tr>\n",
       "      <th>1</th>\n",
       "      <td>0.223482</td>\n",
       "      <td>-0.528665</td>\n",
       "      <td>0.680392</td>\n",
       "      <td>-1.181374</td>\n",
       "    </tr>\n",
       "    <tr>\n",
       "      <th>2</th>\n",
       "      <td>0.225155</td>\n",
       "      <td>-0.528665</td>\n",
       "      <td>0.680392</td>\n",
       "      <td>-1.181374</td>\n",
       "    </tr>\n",
       "    <tr>\n",
       "      <th>3</th>\n",
       "      <td>0.226829</td>\n",
       "      <td>-0.528665</td>\n",
       "      <td>0.680392</td>\n",
       "      <td>-1.181374</td>\n",
       "    </tr>\n",
       "    <tr>\n",
       "      <th>4</th>\n",
       "      <td>0.228502</td>\n",
       "      <td>-0.528665</td>\n",
       "      <td>0.628876</td>\n",
       "      <td>-1.181374</td>\n",
       "    </tr>\n",
       "    <tr>\n",
       "      <th>...</th>\n",
       "      <td>...</td>\n",
       "      <td>...</td>\n",
       "      <td>...</td>\n",
       "      <td>...</td>\n",
       "    </tr>\n",
       "    <tr>\n",
       "      <th>44894</th>\n",
       "      <td>0.328173</td>\n",
       "      <td>-0.061829</td>\n",
       "      <td>0.216750</td>\n",
       "      <td>0.162904</td>\n",
       "    </tr>\n",
       "    <tr>\n",
       "      <th>44895</th>\n",
       "      <td>0.428364</td>\n",
       "      <td>-0.061829</td>\n",
       "      <td>0.216750</td>\n",
       "      <td>-0.509235</td>\n",
       "    </tr>\n",
       "    <tr>\n",
       "      <th>44896</th>\n",
       "      <td>0.401194</td>\n",
       "      <td>-0.178538</td>\n",
       "      <td>0.010687</td>\n",
       "      <td>0.162904</td>\n",
       "    </tr>\n",
       "    <tr>\n",
       "      <th>44897</th>\n",
       "      <td>0.406288</td>\n",
       "      <td>-0.178538</td>\n",
       "      <td>-0.246892</td>\n",
       "      <td>0.162904</td>\n",
       "    </tr>\n",
       "    <tr>\n",
       "      <th>44898</th>\n",
       "      <td>0.200812</td>\n",
       "      <td>-0.061829</td>\n",
       "      <td>0.216750</td>\n",
       "      <td>0.162904</td>\n",
       "    </tr>\n",
       "  </tbody>\n",
       "</table>\n",
       "<p>44899 rows × 4 columns</p>\n",
       "</div>"
      ],
      "text/plain": [
       "              0         1         2         3\n",
       "0      0.222888 -0.528665  0.731908 -1.181374\n",
       "1      0.223482 -0.528665  0.680392 -1.181374\n",
       "2      0.225155 -0.528665  0.680392 -1.181374\n",
       "3      0.226829 -0.528665  0.680392 -1.181374\n",
       "4      0.228502 -0.528665  0.628876 -1.181374\n",
       "...         ...       ...       ...       ...\n",
       "44894  0.328173 -0.061829  0.216750  0.162904\n",
       "44895  0.428364 -0.061829  0.216750 -0.509235\n",
       "44896  0.401194 -0.178538  0.010687  0.162904\n",
       "44897  0.406288 -0.178538 -0.246892  0.162904\n",
       "44898  0.200812 -0.061829  0.216750  0.162904\n",
       "\n",
       "[44899 rows x 4 columns]"
      ]
     },
     "execution_count": 5,
     "metadata": {},
     "output_type": "execute_result"
    }
   ],
   "source": [
    "# normalize values\n",
    "features = normalize(features.values)\n",
    "features = pd.DataFrame(features)\n",
    "features"
   ]
  },
  {
   "cell_type": "code",
   "execution_count": 6,
   "id": "acde0e66",
   "metadata": {},
   "outputs": [],
   "source": [
    "training_size = int ( 0.8 * features.shape[0])  \n",
    "train_data = features.loc[0 : training_size - 1]\n",
    "val_data = features.loc[training_size:]"
   ]
  },
  {
   "cell_type": "code",
   "execution_count": 7,
   "id": "366d8215",
   "metadata": {},
   "outputs": [],
   "source": [
    "start = 432 + 36\n",
    "end = start + training_size\n",
    "\n",
    "x_train = train_data.values\n",
    "y_train = features.iloc[start:end][[0]]\n",
    "\n",
    "sequence_length = int(432 / 6)"
   ]
  },
  {
   "cell_type": "code",
   "execution_count": 8,
   "id": "a12f50e2",
   "metadata": {},
   "outputs": [
    {
     "name": "stderr",
     "output_type": "stream",
     "text": [
      "2023-04-11 01:24:26.923538: W tensorflow/core/common_runtime/gpu/gpu_device.cc:1956] Cannot dlopen some GPU libraries. Please make sure the missing libraries mentioned above are installed properly if you would like to use GPU. Follow the guide at https://www.tensorflow.org/install/gpu for how to download and setup the required libraries for your platform.\n",
      "Skipping registering GPU devices...\n"
     ]
    }
   ],
   "source": [
    "from tensorflow import keras\n",
    "\n",
    "dataset_train = keras.preprocessing.timeseries_dataset_from_array(\n",
    "    data=x_train,\n",
    "    targets=y_train,\n",
    "    sequence_length=sequence_length,\n",
    "    sampling_rate=6,\n",
    "    batch_size=64,\n",
    ")"
   ]
  },
  {
   "cell_type": "code",
   "execution_count": 9,
   "id": "892b37ca",
   "metadata": {},
   "outputs": [],
   "source": [
    "x_val_end = len(val_data) - start\n",
    "\n",
    "label_start = training_size + start\n",
    "\n",
    "x_val = val_data.iloc[:x_val_end][[i for i in range(4)]].values\n",
    "y_val = features.iloc[label_start:][[0]]\n",
    "\n",
    "dataset_val = keras.preprocessing.timeseries_dataset_from_array(\n",
    "    x_val,\n",
    "    y_val,\n",
    "    sequence_length=sequence_length,\n",
    "    sampling_rate=6,\n",
    "    batch_size=64,\n",
    ")"
   ]
  },
  {
   "cell_type": "code",
   "execution_count": 10,
   "id": "a3e599d4",
   "metadata": {},
   "outputs": [
    {
     "name": "stderr",
     "output_type": "stream",
     "text": [
      "2023-04-11 01:24:27.094124: I tensorflow/core/common_runtime/executor.cc:1197] [/device:CPU:0] (DEBUG INFO) Executor start aborting (this does not indicate an error and you can ignore this message): INVALID_ARGUMENT: You must feed a value for placeholder tensor 'Placeholder/_8' with dtype int32 and shape [35488]\n",
      "\t [[{{node Placeholder/_8}}]]\n",
      "2023-04-11 01:24:27.094709: I tensorflow/core/common_runtime/executor.cc:1197] [/device:CPU:0] (DEBUG INFO) Executor start aborting (this does not indicate an error and you can ignore this message): INVALID_ARGUMENT: You must feed a value for placeholder tensor 'Placeholder/_20' with dtype double and shape [35919,1]\n",
      "\t [[{{node Placeholder/_20}}]]\n"
     ]
    },
    {
     "name": "stdout",
     "output_type": "stream",
     "text": [
      "Model: \"Weather_forcaster\"\n",
      "_________________________________________________________________\n",
      " Layer (type)                Output Shape              Param #   \n",
      "=================================================================\n",
      " input_1 (InputLayer)        [(None, 72, 4)]           0         \n",
      "                                                                 \n",
      " lstm (LSTM)                 (None, 32)                4736      \n",
      "                                                                 \n",
      " dense (Dense)               (None, 1)                 33        \n",
      "                                                                 \n",
      "=================================================================\n",
      "Total params: 4,769\n",
      "Trainable params: 4,769\n",
      "Non-trainable params: 0\n",
      "_________________________________________________________________\n"
     ]
    },
    {
     "name": "stderr",
     "output_type": "stream",
     "text": [
      "2023-04-11 01:24:27.386939: I tensorflow/core/common_runtime/executor.cc:1197] [/device:CPU:0] (DEBUG INFO) Executor start aborting (this does not indicate an error and you can ignore this message): INVALID_ARGUMENT: You must feed a value for placeholder tensor 'gradients/split_2_grad/concat/split_2/split_dim' with dtype int32\n",
      "\t [[{{node gradients/split_2_grad/concat/split_2/split_dim}}]]\n",
      "2023-04-11 01:24:27.388582: I tensorflow/core/common_runtime/executor.cc:1197] [/device:CPU:0] (DEBUG INFO) Executor start aborting (this does not indicate an error and you can ignore this message): INVALID_ARGUMENT: You must feed a value for placeholder tensor 'gradients/split_grad/concat/split/split_dim' with dtype int32\n",
      "\t [[{{node gradients/split_grad/concat/split/split_dim}}]]\n",
      "2023-04-11 01:24:27.389951: I tensorflow/core/common_runtime/executor.cc:1197] [/device:CPU:0] (DEBUG INFO) Executor start aborting (this does not indicate an error and you can ignore this message): INVALID_ARGUMENT: You must feed a value for placeholder tensor 'gradients/split_1_grad/concat/split_1/split_dim' with dtype int32\n",
      "\t [[{{node gradients/split_1_grad/concat/split_1/split_dim}}]]\n"
     ]
    }
   ],
   "source": [
    "for batch in dataset_train.take(1):\n",
    "    inputs, targets = batch\n",
    "    \n",
    "inputs = keras.layers.Input(shape=(inputs.shape[1], inputs.shape[2]))\n",
    "lstm_out = keras.layers.LSTM(32)(inputs)\n",
    "outputs = keras.layers.Dense(1)(lstm_out)\n",
    "\n",
    "model = keras.Model(name=\"Weather_forcaster\",inputs=inputs, outputs=outputs)\n",
    "model.compile(optimizer=keras.optimizers.Adam(learning_rate=0.001), loss=\"mse\")\n",
    "model.summary()"
   ]
  },
  {
   "cell_type": "code",
   "execution_count": 11,
   "id": "7bca2a2e",
   "metadata": {},
   "outputs": [
    {
     "name": "stdout",
     "output_type": "stream",
     "text": [
      "Epoch 1/15\n"
     ]
    },
    {
     "name": "stderr",
     "output_type": "stream",
     "text": [
      "2023-04-11 01:24:27.463056: I tensorflow/core/common_runtime/executor.cc:1197] [/device:CPU:0] (DEBUG INFO) Executor start aborting (this does not indicate an error and you can ignore this message): INVALID_ARGUMENT: You must feed a value for placeholder tensor 'Placeholder/_14' with dtype int32\n",
      "\t [[{{node Placeholder/_14}}]]\n",
      "2023-04-11 01:24:27.463611: I tensorflow/core/common_runtime/executor.cc:1197] [/device:CPU:0] (DEBUG INFO) Executor start aborting (this does not indicate an error and you can ignore this message): INVALID_ARGUMENT: You must feed a value for placeholder tensor 'Placeholder/_8' with dtype int32 and shape [35488]\n",
      "\t [[{{node Placeholder/_8}}]]\n",
      "2023-04-11 01:24:27.769483: I tensorflow/core/common_runtime/executor.cc:1197] [/device:CPU:0] (DEBUG INFO) Executor start aborting (this does not indicate an error and you can ignore this message): INVALID_ARGUMENT: You must feed a value for placeholder tensor 'gradients/split_2_grad/concat/split_2/split_dim' with dtype int32\n",
      "\t [[{{node gradients/split_2_grad/concat/split_2/split_dim}}]]\n",
      "2023-04-11 01:24:27.771215: I tensorflow/core/common_runtime/executor.cc:1197] [/device:CPU:0] (DEBUG INFO) Executor start aborting (this does not indicate an error and you can ignore this message): INVALID_ARGUMENT: You must feed a value for placeholder tensor 'gradients/split_grad/concat/split/split_dim' with dtype int32\n",
      "\t [[{{node gradients/split_grad/concat/split/split_dim}}]]\n",
      "2023-04-11 01:24:27.772690: I tensorflow/core/common_runtime/executor.cc:1197] [/device:CPU:0] (DEBUG INFO) Executor start aborting (this does not indicate an error and you can ignore this message): INVALID_ARGUMENT: You must feed a value for placeholder tensor 'gradients/split_1_grad/concat/split_1/split_dim' with dtype int32\n",
      "\t [[{{node gradients/split_1_grad/concat/split_1/split_dim}}]]\n",
      "2023-04-11 01:24:28.481408: I tensorflow/core/common_runtime/executor.cc:1197] [/device:CPU:0] (DEBUG INFO) Executor start aborting (this does not indicate an error and you can ignore this message): INVALID_ARGUMENT: You must feed a value for placeholder tensor 'gradients/split_2_grad/concat/split_2/split_dim' with dtype int32\n",
      "\t [[{{node gradients/split_2_grad/concat/split_2/split_dim}}]]\n",
      "2023-04-11 01:24:28.483126: I tensorflow/core/common_runtime/executor.cc:1197] [/device:CPU:0] (DEBUG INFO) Executor start aborting (this does not indicate an error and you can ignore this message): INVALID_ARGUMENT: You must feed a value for placeholder tensor 'gradients/split_grad/concat/split/split_dim' with dtype int32\n",
      "\t [[{{node gradients/split_grad/concat/split/split_dim}}]]\n",
      "2023-04-11 01:24:28.484615: I tensorflow/core/common_runtime/executor.cc:1197] [/device:CPU:0] (DEBUG INFO) Executor start aborting (this does not indicate an error and you can ignore this message): INVALID_ARGUMENT: You must feed a value for placeholder tensor 'gradients/split_1_grad/concat/split_1/split_dim' with dtype int32\n",
      "\t [[{{node gradients/split_1_grad/concat/split_1/split_dim}}]]\n"
     ]
    },
    {
     "name": "stdout",
     "output_type": "stream",
     "text": [
      "555/555 [==============================] - ETA: 0s - loss: 0.6044"
     ]
    },
    {
     "name": "stderr",
     "output_type": "stream",
     "text": [
      "2023-04-11 01:24:38.210434: I tensorflow/core/common_runtime/executor.cc:1197] [/device:CPU:0] (DEBUG INFO) Executor start aborting (this does not indicate an error and you can ignore this message): INVALID_ARGUMENT: You must feed a value for placeholder tensor 'Placeholder/_28' with dtype int32 and shape [8081]\n",
      "\t [[{{node Placeholder/_28}}]]\n",
      "2023-04-11 01:24:38.211000: I tensorflow/core/common_runtime/executor.cc:1197] [/device:CPU:0] (DEBUG INFO) Executor start aborting (this does not indicate an error and you can ignore this message): INVALID_ARGUMENT: You must feed a value for placeholder tensor 'Placeholder/_0' with dtype double and shape [8512,4]\n",
      "\t [[{{node Placeholder/_0}}]]\n",
      "2023-04-11 01:24:38.506120: I tensorflow/core/common_runtime/executor.cc:1197] [/device:CPU:0] (DEBUG INFO) Executor start aborting (this does not indicate an error and you can ignore this message): INVALID_ARGUMENT: You must feed a value for placeholder tensor 'gradients/split_2_grad/concat/split_2/split_dim' with dtype int32\n",
      "\t [[{{node gradients/split_2_grad/concat/split_2/split_dim}}]]\n",
      "2023-04-11 01:24:38.507746: I tensorflow/core/common_runtime/executor.cc:1197] [/device:CPU:0] (DEBUG INFO) Executor start aborting (this does not indicate an error and you can ignore this message): INVALID_ARGUMENT: You must feed a value for placeholder tensor 'gradients/split_grad/concat/split/split_dim' with dtype int32\n",
      "\t [[{{node gradients/split_grad/concat/split/split_dim}}]]\n",
      "2023-04-11 01:24:38.509079: I tensorflow/core/common_runtime/executor.cc:1197] [/device:CPU:0] (DEBUG INFO) Executor start aborting (this does not indicate an error and you can ignore this message): INVALID_ARGUMENT: You must feed a value for placeholder tensor 'gradients/split_1_grad/concat/split_1/split_dim' with dtype int32\n",
      "\t [[{{node gradients/split_1_grad/concat/split_1/split_dim}}]]\n"
     ]
    },
    {
     "name": "stdout",
     "output_type": "stream",
     "text": [
      "555/555 [==============================] - 12s 18ms/step - loss: 0.6044 - val_loss: 0.4037\n",
      "Epoch 2/15\n",
      "555/555 [==============================] - 10s 17ms/step - loss: 0.4632 - val_loss: 0.3095\n",
      "Epoch 3/15\n",
      "555/555 [==============================] - 10s 17ms/step - loss: 0.3031 - val_loss: 0.2710\n",
      "Epoch 4/15\n",
      "555/555 [==============================] - 10s 18ms/step - loss: 0.2986 - val_loss: 0.2317\n",
      "Epoch 5/15\n",
      "555/555 [==============================] - 10s 17ms/step - loss: 0.2821 - val_loss: 0.2200\n",
      "Epoch 6/15\n",
      "555/555 [==============================] - 10s 18ms/step - loss: 0.2719 - val_loss: 0.2150\n",
      "Epoch 7/15\n",
      "555/555 [==============================] - 10s 17ms/step - loss: 0.2640 - val_loss: 0.2174\n",
      "Epoch 8/15\n",
      "555/555 [==============================] - 10s 17ms/step - loss: 0.2602 - val_loss: 0.1989\n",
      "Epoch 9/15\n",
      "555/555 [==============================] - 10s 17ms/step - loss: 0.2552 - val_loss: 0.2141\n",
      "Epoch 10/15\n",
      "555/555 [==============================] - 10s 18ms/step - loss: 0.2529 - val_loss: 0.2070\n",
      "Epoch 11/15\n",
      "555/555 [==============================] - 10s 18ms/step - loss: 0.2499 - val_loss: 0.2056\n",
      "Epoch 12/15\n",
      "555/555 [==============================] - 10s 17ms/step - loss: 0.2481 - val_loss: 0.2071\n",
      "Epoch 13/15\n",
      "555/555 [==============================] - 10s 18ms/step - loss: 0.2476 - val_loss: 0.1979\n",
      "Epoch 14/15\n",
      "555/555 [==============================] - 10s 17ms/step - loss: 0.2454 - val_loss: 0.2088\n",
      "Epoch 15/15\n",
      "555/555 [==============================] - 10s 17ms/step - loss: 0.2446 - val_loss: 0.2168\n"
     ]
    }
   ],
   "source": [
    "history = model.fit(\n",
    "    dataset_train,\n",
    "    epochs=15,\n",
    "    validation_data=dataset_val\n",
    ")"
   ]
  },
  {
   "cell_type": "code",
   "execution_count": 12,
   "id": "b173c41c",
   "metadata": {},
   "outputs": [
    {
     "name": "stderr",
     "output_type": "stream",
     "text": [
      "2023-04-11 01:26:55.990928: I tensorflow/core/common_runtime/executor.cc:1197] [/device:CPU:0] (DEBUG INFO) Executor start aborting (this does not indicate an error and you can ignore this message): INVALID_ARGUMENT: You must feed a value for placeholder tensor 'Placeholder/_0' with dtype double and shape [8512,4]\n",
      "\t [[{{node Placeholder/_0}}]]\n",
      "2023-04-11 01:26:55.991536: I tensorflow/core/common_runtime/executor.cc:1197] [/device:CPU:0] (DEBUG INFO) Executor start aborting (this does not indicate an error and you can ignore this message): INVALID_ARGUMENT: You must feed a value for placeholder tensor 'Placeholder/_20' with dtype double and shape [8512,1]\n",
      "\t [[{{node Placeholder/_20}}]]\n"
     ]
    },
    {
     "name": "stdout",
     "output_type": "stream",
     "text": [
      "2/2 [==============================] - 0s 6ms/step\n"
     ]
    },
    {
     "name": "stderr",
     "output_type": "stream",
     "text": [
      "2023-04-11 01:26:56.325256: I tensorflow/core/common_runtime/executor.cc:1197] [/device:CPU:0] (DEBUG INFO) Executor start aborting (this does not indicate an error and you can ignore this message): INVALID_ARGUMENT: You must feed a value for placeholder tensor 'gradients/split_2_grad/concat/split_2/split_dim' with dtype int32\n",
      "\t [[{{node gradients/split_2_grad/concat/split_2/split_dim}}]]\n",
      "2023-04-11 01:26:56.326892: I tensorflow/core/common_runtime/executor.cc:1197] [/device:CPU:0] (DEBUG INFO) Executor start aborting (this does not indicate an error and you can ignore this message): INVALID_ARGUMENT: You must feed a value for placeholder tensor 'gradients/split_grad/concat/split/split_dim' with dtype int32\n",
      "\t [[{{node gradients/split_grad/concat/split/split_dim}}]]\n",
      "2023-04-11 01:26:56.328248: I tensorflow/core/common_runtime/executor.cc:1197] [/device:CPU:0] (DEBUG INFO) Executor start aborting (this does not indicate an error and you can ignore this message): INVALID_ARGUMENT: You must feed a value for placeholder tensor 'gradients/split_1_grad/concat/split_1/split_dim' with dtype int32\n",
      "\t [[{{node gradients/split_1_grad/concat/split_1/split_dim}}]]\n"
     ]
    },
    {
     "data": {
      "image/png": "[encoded data removed]",
      "text/plain": [
       "<Figure size 640x480 with 1 Axes>"
      ]
     },
     "metadata": {},
     "output_type": "display_data"
    }
   ],
   "source": [
    "import matplotlib.pyplot as plt\n",
    "\n",
    "temperature=temp\n",
    "\n",
    "temp_mean = temperature.mean(axis=0)\n",
    "temp_std = temperature.std(axis=0)\n",
    "\n",
    "for x, y in dataset_val.skip(12):\n",
    "    history_data = x[0][:, 1].numpy() * temp_std + temp_mean\n",
    "    true_value = y[0].numpy() * temp_std + temp_mean\n",
    "    prediction = model.predict(x)[0] * temp_std + temp_mean\n",
    "    time_steps = list(range(-(history_data.shape[0]), 0))\n",
    "    plt.plot(time_steps, history_data)\n",
    "    plt.plot(36, true_value, \"gD\")\n",
    "    plt.plot(36, prediction, \"rX\")\n",
    "    plt.legend([\"History\", \"True Future\", \"Model Prediction\"])\n",
    "    plt.xlabel(\"Time\")\n",
    "    plt.show()\n",
    "    break"
   ]
  },
  {
   "cell_type": "code",
   "execution_count": 42,
   "id": "22fcd3a7",
   "metadata": {},
   "outputs": [
    {
     "name": "stdout",
     "output_type": "stream",
     "text": [
      "Number of features 4\n"
     ]
    }
   ],
   "source": [
    "# ighnore below\n",
    "dataset = features.values\n",
    "dataset = dataset.astype('float32')\n",
    "scaler = MinMaxScaler(feature_range=(0, 1))\n",
    "dataset = scaler.fit_transform(dataset)\n",
    "#print('dataset.shape', dataset.shape)\n",
    "num_of_features = len(features.columns)\n",
    "print('Number of features', num_of_features)\n"
   ]
  },
  {
   "cell_type": "code",
   "execution_count": 43,
   "id": "56be6197",
   "metadata": {},
   "outputs": [],
   "source": [
    "look_back = start"
   ]
  },
  {
   "cell_type": "code",
   "execution_count": 44,
   "id": "14c0cfd6",
   "metadata": {},
   "outputs": [
    {
     "name": "stdout",
     "output_type": "stream",
     "text": [
      "0\n",
      "Training dataset length  35919\n",
      "Testing dataset length  8980\n",
      "look_back  468\n"
     ]
    }
   ],
   "source": [
    "\n",
    "\n",
    "train_size_percent = 0.80\n",
    "pred_col = features.columns.get_loc(0)\n",
    "print(pred_col)\n",
    "\n",
    "# function to split the data\n",
    "def create_dataset(dataset, pred_col, look_back=1):\n",
    "  dataX, dataY = [], []\n",
    "  for i in range(len(dataset)-look_back-1):\n",
    "    a = dataset[i:(i+look_back), :]\n",
    "    dataX.append(a)\n",
    "    dataY.append(dataset[i + look_back, pred_col])\n",
    "  return np.array(dataX), np.array(dataY)\n",
    "\n",
    "\n",
    "train_size = int(len(dataset) * train_size_percent)\n",
    "test_size = len(dataset) - train_size\n",
    "train, test = dataset[0:train_size, :], dataset[train_size:len(dataset), :]\n",
    "\n",
    "trainX, trainY = create_dataset(train, pred_col, look_back=look_back)\n",
    "testX, testY = create_dataset(test, pred_col, look_back=look_back)\n",
    "# reshape input to be  [samples, time steps, features]\n",
    "trainX = np.reshape(trainX, (trainX.shape[0], look_back, num_of_features))\n",
    "testX = np.reshape(testX, (testX.shape[0],look_back, num_of_features))\n",
    "\n",
    "print('Training dataset length ', len(train))\n",
    "print('Testing dataset length ', len(test))\n",
    "print('look_back ', look_back)"
   ]
  },
  {
   "cell_type": "code",
   "execution_count": 24,
   "id": "6a481750",
   "metadata": {},
   "outputs": [
    {
     "name": "stdout",
     "output_type": "stream",
     "text": [
      "Epoch 1/2\n"
     ]
    },
    {
     "name": "stderr",
     "output_type": "stream",
     "text": [
      "2023-04-11 01:29:32.173777: I tensorflow/core/common_runtime/executor.cc:1197] [/device:CPU:0] (DEBUG INFO) Executor start aborting (this does not indicate an error and you can ignore this message): INVALID_ARGUMENT: You must feed a value for placeholder tensor 'gradients/split_2_grad/concat/split_2/split_dim' with dtype int32\n",
      "\t [[{{node gradients/split_2_grad/concat/split_2/split_dim}}]]\n",
      "2023-04-11 01:29:32.175393: I tensorflow/core/common_runtime/executor.cc:1197] [/device:CPU:0] (DEBUG INFO) Executor start aborting (this does not indicate an error and you can ignore this message): INVALID_ARGUMENT: You must feed a value for placeholder tensor 'gradients/split_grad/concat/split/split_dim' with dtype int32\n",
      "\t [[{{node gradients/split_grad/concat/split/split_dim}}]]\n",
      "2023-04-11 01:29:32.176752: I tensorflow/core/common_runtime/executor.cc:1197] [/device:CPU:0] (DEBUG INFO) Executor start aborting (this does not indicate an error and you can ignore this message): INVALID_ARGUMENT: You must feed a value for placeholder tensor 'gradients/split_1_grad/concat/split_1/split_dim' with dtype int32\n",
      "\t [[{{node gradients/split_1_grad/concat/split_1/split_dim}}]]\n",
      "2023-04-11 01:29:32.540091: I tensorflow/core/common_runtime/executor.cc:1197] [/device:CPU:0] (DEBUG INFO) Executor start aborting (this does not indicate an error and you can ignore this message): INVALID_ARGUMENT: You must feed a value for placeholder tensor 'gradients/split_2_grad/concat/split_2/split_dim' with dtype int32\n",
      "\t [[{{node gradients/split_2_grad/concat/split_2/split_dim}}]]\n",
      "2023-04-11 01:29:32.541873: I tensorflow/core/common_runtime/executor.cc:1197] [/device:CPU:0] (DEBUG INFO) Executor start aborting (this does not indicate an error and you can ignore this message): INVALID_ARGUMENT: You must feed a value for placeholder tensor 'gradients/split_grad/concat/split/split_dim' with dtype int32\n",
      "\t [[{{node gradients/split_grad/concat/split/split_dim}}]]\n",
      "2023-04-11 01:29:32.543349: I tensorflow/core/common_runtime/executor.cc:1197] [/device:CPU:0] (DEBUG INFO) Executor start aborting (this does not indicate an error and you can ignore this message): INVALID_ARGUMENT: You must feed a value for placeholder tensor 'gradients/split_1_grad/concat/split_1/split_dim' with dtype int32\n",
      "\t [[{{node gradients/split_1_grad/concat/split_1/split_dim}}]]\n",
      "2023-04-11 01:29:33.263749: I tensorflow/core/common_runtime/executor.cc:1197] [/device:CPU:0] (DEBUG INFO) Executor start aborting (this does not indicate an error and you can ignore this message): INVALID_ARGUMENT: You must feed a value for placeholder tensor 'gradients/split_2_grad/concat/split_2/split_dim' with dtype int32\n",
      "\t [[{{node gradients/split_2_grad/concat/split_2/split_dim}}]]\n",
      "2023-04-11 01:29:33.265523: I tensorflow/core/common_runtime/executor.cc:1197] [/device:CPU:0] (DEBUG INFO) Executor start aborting (this does not indicate an error and you can ignore this message): INVALID_ARGUMENT: You must feed a value for placeholder tensor 'gradients/split_grad/concat/split/split_dim' with dtype int32\n",
      "\t [[{{node gradients/split_grad/concat/split/split_dim}}]]\n",
      "2023-04-11 01:29:33.267006: I tensorflow/core/common_runtime/executor.cc:1197] [/device:CPU:0] (DEBUG INFO) Executor start aborting (this does not indicate an error and you can ignore this message): INVALID_ARGUMENT: You must feed a value for placeholder tensor 'gradients/split_1_grad/concat/split_1/split_dim' with dtype int32\n",
      "\t [[{{node gradients/split_1_grad/concat/split_1/split_dim}}]]\n"
     ]
    },
    {
     "name": "stdout",
     "output_type": "stream",
     "text": [
      "194/194 [==============================] - ETA: 0s - loss: 0.0806"
     ]
    },
    {
     "name": "stderr",
     "output_type": "stream",
     "text": [
      "2023-04-11 01:29:53.014853: I tensorflow/core/common_runtime/executor.cc:1197] [/device:CPU:0] (DEBUG INFO) Executor start aborting (this does not indicate an error and you can ignore this message): INVALID_ARGUMENT: You must feed a value for placeholder tensor 'gradients/split_2_grad/concat/split_2/split_dim' with dtype int32\n",
      "\t [[{{node gradients/split_2_grad/concat/split_2/split_dim}}]]\n",
      "2023-04-11 01:29:53.016558: I tensorflow/core/common_runtime/executor.cc:1197] [/device:CPU:0] (DEBUG INFO) Executor start aborting (this does not indicate an error and you can ignore this message): INVALID_ARGUMENT: You must feed a value for placeholder tensor 'gradients/split_grad/concat/split/split_dim' with dtype int32\n",
      "\t [[{{node gradients/split_grad/concat/split/split_dim}}]]\n",
      "2023-04-11 01:29:53.017907: I tensorflow/core/common_runtime/executor.cc:1197] [/device:CPU:0] (DEBUG INFO) Executor start aborting (this does not indicate an error and you can ignore this message): INVALID_ARGUMENT: You must feed a value for placeholder tensor 'gradients/split_1_grad/concat/split_1/split_dim' with dtype int32\n",
      "\t [[{{node gradients/split_1_grad/concat/split_1/split_dim}}]]\n"
     ]
    },
    {
     "name": "stdout",
     "output_type": "stream",
     "text": [
      "194/194 [==============================] - 24s 112ms/step - loss: 0.0806 - val_loss: 0.0264\n",
      "Epoch 2/2\n",
      "194/194 [==============================] - 21s 107ms/step - loss: 0.0147 - val_loss: 0.0194\n"
     ]
    }
   ],
   "source": [
    "expr_name = 'expr_4'\n",
    "# look_back = 24*120 # 60 days, as each entry is for 1 hour\n",
    "lstm_layers = 16 # 64\n",
    "epochs=3 # 6\n",
    "batch_size=128 #128\n",
    "\n",
    "model = Sequential()\n",
    "model.add(LSTM(lstm_layers, input_shape=(look_back,num_of_features)))\n",
    "model.add(Dense(1))\n",
    "model.compile(loss='mean_squared_error', optimizer='adam')\n",
    "history= model.fit(trainX, trainY,validation_split=0.30, epochs=epochs, batch_size=batch_size,shuffle=False)"
   ]
  },
  {
   "cell_type": "code",
   "execution_count": 25,
   "id": "971a2fce",
   "metadata": {},
   "outputs": [
    {
     "data": {
      "image/png": "[encoded data removed]",
      "text/plain": [
       "<Figure size 640x480 with 1 Axes>"
      ]
     },
     "metadata": {},
     "output_type": "display_data"
    }
   ],
   "source": [
    "# plot training\n",
    "plt.plot(history.history['loss'])\n",
    "plt.plot(history.history['val_loss'])\n",
    "plt.title('Model loss')\n",
    "plt.ylabel('Loss')\n",
    "plt.xlabel('Epoch')\n",
    "plt.legend(['training', 'validation'], loc='upper right')\n",
    "plt.show()"
   ]
  },
  {
   "cell_type": "code",
   "execution_count": 56,
   "id": "f6aced49",
   "metadata": {
    "scrolled": false
   },
   "outputs": [
    {
     "name": "stdout",
     "output_type": "stream",
     "text": [
      "1108/1108 [==============================] - 24s 22ms/step\n",
      "266/266 [==============================] - 6s 22ms/step\n"
     ]
    },
    {
     "ename": "ValueError",
     "evalue": "Length of values (44899) does not match length of index (45253)",
     "output_type": "error",
     "traceback": [
      "\u001b[0;31m---------------------------------------------------------------------------\u001b[0m",
      "\u001b[0;31mValueError\u001b[0m                                Traceback (most recent call last)",
      "Cell \u001b[0;32mIn[56], line 59\u001b[0m\n\u001b[1;32m     56\u001b[0m \u001b[38;5;66;03m# contruct pandas dataframe for plotting\u001b[39;00m\n\u001b[1;32m     57\u001b[0m time_df \u001b[38;5;241m=\u001b[39m pd\u001b[38;5;241m.\u001b[39mDataFrame(df_t\u001b[38;5;241m.\u001b[39mindex)\n\u001b[0;32m---> 59\u001b[0m \u001b[43mtime_df\u001b[49m\u001b[43m[\u001b[49m\u001b[38;5;124;43m'\u001b[39;49m\u001b[38;5;124;43mActual\u001b[39;49m\u001b[38;5;124;43m'\u001b[39;49m\u001b[43m]\u001b[49m \u001b[38;5;241m=\u001b[39m scaler\u001b[38;5;241m.\u001b[39minverse_transform(dataset)[:,pred_col]\n\u001b[1;32m     60\u001b[0m df1 \u001b[38;5;241m=\u001b[39m pd\u001b[38;5;241m.\u001b[39mDataFrame(trainPredictPlot[:,pred_col],columns\u001b[38;5;241m=\u001b[39m[\u001b[38;5;124m'\u001b[39m\u001b[38;5;124mTrain\u001b[39m\u001b[38;5;124m'\u001b[39m])\n\u001b[1;32m     61\u001b[0m df2 \u001b[38;5;241m=\u001b[39m pd\u001b[38;5;241m.\u001b[39mDataFrame(testPredictPlot[:,pred_col],columns\u001b[38;5;241m=\u001b[39m[\u001b[38;5;124m'\u001b[39m\u001b[38;5;124mTest\u001b[39m\u001b[38;5;124m'\u001b[39m])\n",
      "File \u001b[0;32m/opt/mambaforge/envs/cs152/lib/python3.10/site-packages/pandas/core/frame.py:3978\u001b[0m, in \u001b[0;36mDataFrame.__setitem__\u001b[0;34m(self, key, value)\u001b[0m\n\u001b[1;32m   3975\u001b[0m     \u001b[38;5;28mself\u001b[39m\u001b[38;5;241m.\u001b[39m_setitem_array([key], value)\n\u001b[1;32m   3976\u001b[0m \u001b[38;5;28;01melse\u001b[39;00m:\n\u001b[1;32m   3977\u001b[0m     \u001b[38;5;66;03m# set column\u001b[39;00m\n\u001b[0;32m-> 3978\u001b[0m     \u001b[38;5;28;43mself\u001b[39;49m\u001b[38;5;241;43m.\u001b[39;49m\u001b[43m_set_item\u001b[49m\u001b[43m(\u001b[49m\u001b[43mkey\u001b[49m\u001b[43m,\u001b[49m\u001b[43m \u001b[49m\u001b[43mvalue\u001b[49m\u001b[43m)\u001b[49m\n",
      "File \u001b[0;32m/opt/mambaforge/envs/cs152/lib/python3.10/site-packages/pandas/core/frame.py:4172\u001b[0m, in \u001b[0;36mDataFrame._set_item\u001b[0;34m(self, key, value)\u001b[0m\n\u001b[1;32m   4162\u001b[0m \u001b[38;5;28;01mdef\u001b[39;00m \u001b[38;5;21m_set_item\u001b[39m(\u001b[38;5;28mself\u001b[39m, key, value) \u001b[38;5;241m-\u001b[39m\u001b[38;5;241m>\u001b[39m \u001b[38;5;28;01mNone\u001b[39;00m:\n\u001b[1;32m   4163\u001b[0m \u001b[38;5;250m    \u001b[39m\u001b[38;5;124;03m\"\"\"\u001b[39;00m\n\u001b[1;32m   4164\u001b[0m \u001b[38;5;124;03m    Add series to DataFrame in specified column.\u001b[39;00m\n\u001b[1;32m   4165\u001b[0m \n\u001b[0;32m   (...)\u001b[0m\n\u001b[1;32m   4170\u001b[0m \u001b[38;5;124;03m    ensure homogeneity.\u001b[39;00m\n\u001b[1;32m   4171\u001b[0m \u001b[38;5;124;03m    \"\"\"\u001b[39;00m\n\u001b[0;32m-> 4172\u001b[0m     value \u001b[38;5;241m=\u001b[39m \u001b[38;5;28;43mself\u001b[39;49m\u001b[38;5;241;43m.\u001b[39;49m\u001b[43m_sanitize_column\u001b[49m\u001b[43m(\u001b[49m\u001b[43mvalue\u001b[49m\u001b[43m)\u001b[49m\n\u001b[1;32m   4174\u001b[0m     \u001b[38;5;28;01mif\u001b[39;00m (\n\u001b[1;32m   4175\u001b[0m         key \u001b[38;5;129;01min\u001b[39;00m \u001b[38;5;28mself\u001b[39m\u001b[38;5;241m.\u001b[39mcolumns\n\u001b[1;32m   4176\u001b[0m         \u001b[38;5;129;01mand\u001b[39;00m value\u001b[38;5;241m.\u001b[39mndim \u001b[38;5;241m==\u001b[39m \u001b[38;5;241m1\u001b[39m\n\u001b[1;32m   4177\u001b[0m         \u001b[38;5;129;01mand\u001b[39;00m \u001b[38;5;129;01mnot\u001b[39;00m is_extension_array_dtype(value)\n\u001b[1;32m   4178\u001b[0m     ):\n\u001b[1;32m   4179\u001b[0m         \u001b[38;5;66;03m# broadcast across multiple columns if necessary\u001b[39;00m\n\u001b[1;32m   4180\u001b[0m         \u001b[38;5;28;01mif\u001b[39;00m \u001b[38;5;129;01mnot\u001b[39;00m \u001b[38;5;28mself\u001b[39m\u001b[38;5;241m.\u001b[39mcolumns\u001b[38;5;241m.\u001b[39mis_unique \u001b[38;5;129;01mor\u001b[39;00m \u001b[38;5;28misinstance\u001b[39m(\u001b[38;5;28mself\u001b[39m\u001b[38;5;241m.\u001b[39mcolumns, MultiIndex):\n",
      "File \u001b[0;32m/opt/mambaforge/envs/cs152/lib/python3.10/site-packages/pandas/core/frame.py:4912\u001b[0m, in \u001b[0;36mDataFrame._sanitize_column\u001b[0;34m(self, value)\u001b[0m\n\u001b[1;32m   4909\u001b[0m     \u001b[38;5;28;01mreturn\u001b[39;00m _reindex_for_setitem(Series(value), \u001b[38;5;28mself\u001b[39m\u001b[38;5;241m.\u001b[39mindex)\n\u001b[1;32m   4911\u001b[0m \u001b[38;5;28;01mif\u001b[39;00m is_list_like(value):\n\u001b[0;32m-> 4912\u001b[0m     \u001b[43mcom\u001b[49m\u001b[38;5;241;43m.\u001b[39;49m\u001b[43mrequire_length_match\u001b[49m\u001b[43m(\u001b[49m\u001b[43mvalue\u001b[49m\u001b[43m,\u001b[49m\u001b[43m \u001b[49m\u001b[38;5;28;43mself\u001b[39;49m\u001b[38;5;241;43m.\u001b[39;49m\u001b[43mindex\u001b[49m\u001b[43m)\u001b[49m\n\u001b[1;32m   4913\u001b[0m \u001b[38;5;28;01mreturn\u001b[39;00m sanitize_array(value, \u001b[38;5;28mself\u001b[39m\u001b[38;5;241m.\u001b[39mindex, copy\u001b[38;5;241m=\u001b[39m\u001b[38;5;28;01mTrue\u001b[39;00m, allow_2d\u001b[38;5;241m=\u001b[39m\u001b[38;5;28;01mTrue\u001b[39;00m)\n",
      "File \u001b[0;32m/opt/mambaforge/envs/cs152/lib/python3.10/site-packages/pandas/core/common.py:561\u001b[0m, in \u001b[0;36mrequire_length_match\u001b[0;34m(data, index)\u001b[0m\n\u001b[1;32m    557\u001b[0m \u001b[38;5;250m\u001b[39m\u001b[38;5;124;03m\"\"\"\u001b[39;00m\n\u001b[1;32m    558\u001b[0m \u001b[38;5;124;03mCheck the length of data matches the length of the index.\u001b[39;00m\n\u001b[1;32m    559\u001b[0m \u001b[38;5;124;03m\"\"\"\u001b[39;00m\n\u001b[1;32m    560\u001b[0m \u001b[38;5;28;01mif\u001b[39;00m \u001b[38;5;28mlen\u001b[39m(data) \u001b[38;5;241m!=\u001b[39m \u001b[38;5;28mlen\u001b[39m(index):\n\u001b[0;32m--> 561\u001b[0m     \u001b[38;5;28;01mraise\u001b[39;00m \u001b[38;5;167;01mValueError\u001b[39;00m(\n\u001b[1;32m    562\u001b[0m         \u001b[38;5;124m\"\u001b[39m\u001b[38;5;124mLength of values \u001b[39m\u001b[38;5;124m\"\u001b[39m\n\u001b[1;32m    563\u001b[0m         \u001b[38;5;124mf\u001b[39m\u001b[38;5;124m\"\u001b[39m\u001b[38;5;124m(\u001b[39m\u001b[38;5;132;01m{\u001b[39;00m\u001b[38;5;28mlen\u001b[39m(data)\u001b[38;5;132;01m}\u001b[39;00m\u001b[38;5;124m) \u001b[39m\u001b[38;5;124m\"\u001b[39m\n\u001b[1;32m    564\u001b[0m         \u001b[38;5;124m\"\u001b[39m\u001b[38;5;124mdoes not match length of index \u001b[39m\u001b[38;5;124m\"\u001b[39m\n\u001b[1;32m    565\u001b[0m         \u001b[38;5;124mf\u001b[39m\u001b[38;5;124m\"\u001b[39m\u001b[38;5;124m(\u001b[39m\u001b[38;5;132;01m{\u001b[39;00m\u001b[38;5;28mlen\u001b[39m(index)\u001b[38;5;132;01m}\u001b[39;00m\u001b[38;5;124m)\u001b[39m\u001b[38;5;124m\"\u001b[39m\n\u001b[1;32m    566\u001b[0m     )\n",
      "\u001b[0;31mValueError\u001b[0m: Length of values (44899) does not match length of index (45253)"
     ]
    }
   ],
   "source": [
    "import math\n",
    "\n",
    "trainPredict = model.predict(trainX)\n",
    "testPredict = model.predict(testX)\n",
    "\n",
    "# Get something which has as many features as dataset\n",
    "trainPredict_extended = np.zeros((len(trainPredict),num_of_features))\n",
    "# Put the predictions there\n",
    "trainPredict_extended[:,pred_col] = trainPredict[:,0]\n",
    "# Inverse transform it and select the 3rd column.\n",
    "trainPredict = scaler.inverse_transform(trainPredict_extended) [:,pred_col]\n",
    "\n",
    "# Get something which has as many features as dataset\n",
    "testPredict_extended = np.zeros((len(testPredict),num_of_features))\n",
    "# Put the predictions there\n",
    "testPredict_extended[:,pred_col] = testPredict[:,0]\n",
    "# Inverse transform it and select the pred_col column.\n",
    "testPredict = scaler.inverse_transform(testPredict_extended)[:,pred_col] \n",
    "\n",
    "trainY_extended = np.zeros((len(trainY),num_of_features))\n",
    "trainY_extended[:,pred_col]=trainY\n",
    "trainY = scaler.inverse_transform(trainY_extended)[:,pred_col]\n",
    "\n",
    "testY_extended = np.zeros((len(testY),num_of_features))\n",
    "testY_extended[:,pred_col]=testY\n",
    "testY = scaler.inverse_transform(testY_extended)[:,pred_col]\n",
    "\n",
    "# calculate root mean squared error\n",
    "trainScore_RMSE = math.sqrt(mean_squared_error(trainY, trainPredict))\n",
    "testScore_RMSE = math.sqrt(mean_squared_error(testY, testPredict))\n",
    "\n",
    "# calculate absolute mean error\n",
    "trainScore_MAE = np.sum(np.absolute(trainY - trainPredict))/len(trainY)\n",
    "testScore_MAE = np.sum(np.absolute(testY - testPredict))/len(testY)\n",
    "\n",
    "# # shift train predictions for plotting\n",
    "# trainPredictPlot = np.empty_like(dataset)\n",
    "# trainPredictPlot[:, :] = np.nan\n",
    "# trainPredictPlot[look_back:len(trainPredict)+look_back, pred_col] = trainPredict\n",
    "\n",
    "# # shift test predictions for plotting\n",
    "# testPredictPlot = np.empty_like(dataset)\n",
    "# testPredictPlot[:, :] = np.nan\n",
    "# testPredictPlot[len(trainPredict)+(look_back*2)+1:len(dataset)-1, pred_col] = testPredict\n",
    "\n",
    "# shift train predictions for plotting\n",
    "trainPredictPlot = np.empty((len(dataset), dataset.shape[1]))\n",
    "trainPredictPlot[:, :] = np.nan\n",
    "trainPredictPlot[look_back:len(trainPredict)+look_back, pred_col] = trainPredict\n",
    "\n",
    "# shift test predictions for plotting\n",
    "testPredictPlot = np.empty((len(dataset), dataset.shape[1]))\n",
    "testPredictPlot[:, :] = np.nan\n",
    "testPredictPlot[len(trainPredict)+(look_back*2)+1:len(dataset)-1, pred_col] = testPredict\n",
    "\n",
    "# contruct pandas dataframe for plotting\n",
    "time_df = pd.DataFrame(df_t.index)\n",
    "\n",
    "time_df['Actual'] = scaler.inverse_transform(dataset)[:,pred_col]\n",
    "df1 = pd.DataFrame(trainPredictPlot[:,pred_col],columns=['Train'])\n",
    "df2 = pd.DataFrame(testPredictPlot[:,pred_col],columns=['Test'])\n",
    "time_df2 = pd.concat([time_df, df1, df2], axis=1, sort=False)\n",
    "time_df2.set_index('datetime',inplace=True)\n",
    "\n",
    "# plot the output\n",
    "fig, ax = plt.subplots(figsize=(15,7))\n",
    "time_df2.plot(ax=ax,rot=90,alpha=0.7)\n",
    "plt.xlabel('Timestamp')\n",
    "plt.ylabel('Bitcoin Value')\n",
    "plt.title('Bitcoin Price Prediction')\n",
    "plt.savefig(expr_name + '.png',bbox_inches = \"tight\")\n"
   ]
  },
  {
   "cell_type": "code",
   "execution_count": null,
   "id": "23b6a130",
   "metadata": {},
   "outputs": [],
   "source": []
  },
  {
   "cell_type": "code",
   "execution_count": null,
   "id": "f664700a",
   "metadata": {},
   "outputs": [],
   "source": []
  }
 ],
 "metadata": {
  "kernelspec": {
   "display_name": "Python 3 (ipykernel)",
   "language": "python",
   "name": "python3"
  },
  "language_info": {
   "codemirror_mode": {
    "name": "ipython",
    "version": 3
   },
   "file_extension": ".py",
   "mimetype": "text/x-python",
   "name": "python",
   "nbconvert_exporter": "python",
   "pygments_lexer": "ipython3",
   "version": "3.10.8"
  }
 },
 "nbformat": 4,
 "nbformat_minor": 5
}
